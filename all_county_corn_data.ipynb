{
  "nbformat": 4,
  "nbformat_minor": 0,
  "metadata": {
    "colab": {
      "name": "all_county_corn_data.ipynb",
      "provenance": [],
      "collapsed_sections": [],
      "mount_file_id": "1B3SI0flsMF1ONRL3kXFL0FweSEDNttb3",
      "authorship_tag": "ABX9TyOkhTOWpsvvLa9jGDkpWt4L",
      "include_colab_link": true
    },
    "kernelspec": {
      "name": "python3",
      "display_name": "Python 3"
    }
  },
  "cells": [
    {
      "cell_type": "markdown",
      "metadata": {
        "id": "view-in-github",
        "colab_type": "text"
      },
      "source": [
        "<a href=\"https://colab.research.google.com/github/kyoungyi/Small-Projects/blob/master/all_county_corn_data.ipynb\" target=\"_parent\"><img src=\"https://colab.research.google.com/assets/colab-badge.svg\" alt=\"Open In Colab\"/></a>"
      ]
    },
    {
      "cell_type": "code",
      "metadata": {
        "id": "zDYM56DPIhHn",
        "colab_type": "code",
        "colab": {
          "base_uri": "https://localhost:8080/",
          "height": 72
        },
        "outputId": "81dcb197-b89b-4754-ea9e-dcfc8abc80f4"
      },
      "source": [
        "! pip install cftime\n",
        "import xarray as xr\n",
        "import numpy as np\n",
        "import pandas as pd\n",
        "import scipy.io\n",
        "from itertools import zip_longest\n"
      ],
      "execution_count": 2,
      "outputs": [
        {
          "output_type": "stream",
          "text": [
            "Requirement already satisfied: cftime in /usr/local/lib/python3.6/dist-packages (1.2.1)\n",
            "Requirement already satisfied: numpy in /usr/local/lib/python3.6/dist-packages (from cftime) (1.18.5)\n"
          ],
          "name": "stdout"
        }
      ]
    },
    {
      "cell_type": "code",
      "metadata": {
        "id": "U_hptyVkQC_2",
        "colab_type": "code",
        "colab": {
          "base_uri": "https://localhost:8080/",
          "height": 277
        },
        "outputId": "48f85ad8-a029-4825-bb75-38500d07fcc6"
      },
      "source": [
        "data = scipy.io.loadmat('/content/drive/My Drive/all_crops_LLSupdated07282020_statesAndCounties.mat', squeeze_me=True)\n",
        "county = data['st']['c']\n",
        "#a.dtype.names\n",
        "crop_names = county[0].dtype.names"
      ],
      "execution_count": 3,
      "outputs": [
        {
          "output_type": "execute_result",
          "data": {
            "text/plain": [
              "('name',\n",
              " 'FIPS',\n",
              " 'c',\n",
              " 'corn_yrs',\n",
              " 'corn_yld',\n",
              " 'corn_area_yrs',\n",
              " 'corn_area',\n",
              " 'soy_yrs',\n",
              " 'soy_yld',\n",
              " 'soy_area_yrs',\n",
              " 'soy_area',\n",
              " 'wwht_yrs',\n",
              " 'wwht_yld',\n",
              " 'wwht_area_yrs',\n",
              " 'wwht_area')"
            ]
          },
          "metadata": {
            "tags": []
          },
          "execution_count": 3
        }
      ]
    },
    {
      "cell_type": "code",
      "metadata": {
        "id": "DGXifmDmdn5Q",
        "colab_type": "code",
        "colab": {}
      },
      "source": [
        "time = xr.cftime_range(start=\"1910-01-01\", periods=110, freq=\"1Y\", calendar='noleap')\n",
        "time.year"
      ],
      "execution_count": 4,
      "outputs": []
    },
    {
      "cell_type": "code",
      "metadata": {
        "id": "TQay-Qj2Syqh",
        "colab_type": "code",
        "colab": {}
      },
      "source": [
        "for i in range(len(county)): #len(county)\n",
        "  for j in range(len(county[i])): #len(county[i])\n",
        "    if len(np.atleast_1d(county[i]['corn_yld_yrs'][j])) != 0 or len(np.atleast_1d(county[i]['corn_area_yrs'][j])) !=0:\n",
        "      corn_yr = np.atleast_1d(county[i]['corn_yld_yrs'][j]) #.astype('int64')\n",
        "      corn_yld = np.atleast_1d(county[i]['corn_yld'][j]) #.astype('int64')\n",
        "      corn_area_yr =np.atleast_1d(county[i]['corn_area_yrs'][j]) #.astype('int64')\n",
        "      corn_area = np.atleast_1d(county[i]['corn_area'][j]) #.astype('int64')\n",
        "      temp1  = np.zeros([110])\n",
        "      temp2 = np.zeros([110])\n",
        "      index1 = []\n",
        "      index2 = []\n",
        "      idx1 = 0\n",
        "      idx2 = 0\n",
        "      print(i,j)\n",
        "      for z,k in zip_longest(corn_yr,corn_area_yr):\n",
        "        if z != None:\n",
        "          idx1 = np.where(list(time.year) == z)\n",
        "          index1.append(idx1)\n",
        "        if k != None:\n",
        "          idx2= np.where(list(time.year) == k)\n",
        "          index2.append(idx2)\n",
        "      #print(np.ravel(index1), np.ravel(index2))\n",
        "      if len(corn_yr) !=0:\n",
        "        temp1[np.ravel(index1)] = corn_yld\n",
        "      if len(corn_area_yr) !=0:\n",
        "        temp2[np.ravel(index2)] = corn_area\n",
        "      #print(temp1[np.ravel(index1)], corn_yld,county[i][\"mLat\"][j])\n",
        "\n",
        "      # Saving: change from dict to dataframe\n",
        "      my_dict = dict(state_name=data['st']['name'][i],state_id=data['st']['FIPS'][i],\n",
        "                    county_name=county[i]['name'][j],county_id=county[i]['ID'][j],\n",
        "                    lat=county[i][\"mLat\"][j],lon=county[i][\"mLon\"][j],\n",
        "                    year=time,corn_yld=temp1,corn_area=temp2)\n",
        "      dataframe_temp = pd.DataFrame.from_dict(my_dict)\n",
        "      \n",
        "      if i == 0 and j == 0:\n",
        "        dataframe = dataframe_temp\n",
        "      else:\n",
        "        dataframe = dataframe.append(dataframe_temp,ignore_index=True, sort=False)\n",
        "    \n",
        "    else:\n",
        "      print('no data: ',i,j)\n",
        "\n"
      ],
      "execution_count": null,
      "outputs": []
    },
    {
      "cell_type": "code",
      "metadata": {
        "id": "rvfp_wM9zcEZ",
        "colab_type": "code",
        "colab": {}
      },
      "source": [
        "dataframe"
      ],
      "execution_count": null,
      "outputs": []
    },
    {
      "cell_type": "code",
      "metadata": {
        "id": "Ar-Qphhize4J",
        "colab_type": "code",
        "colab": {}
      },
      "source": [
        "dataframe.to_csv('/content/drive/My Drive/state_county_corn.csv')"
      ],
      "execution_count": null,
      "outputs": []
    }
  ]
}